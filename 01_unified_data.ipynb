{
 "cells": [
  {
   "cell_type": "code",
   "execution_count": null,
   "source": [
    "import pandas as pd\r\n",
    "from utils.plotting import plot_signal_in_time\r\n",
    "from constants import *"
   ],
   "outputs": [],
   "metadata": {}
  },
  {
   "cell_type": "markdown",
   "source": [
    "# Raw signal in movement"
   ],
   "metadata": {}
  },
  {
   "cell_type": "code",
   "execution_count": null,
   "source": [
    "df_empatica_acc = pd.read_csv('Data/01_unified_data/ruch/empatica_acc.csv')\r\n",
    "df_empatica_ppg = pd.read_csv('Data/01_unified_data/ruch/empatica_ppg.csv')\r\n",
    "\r\n",
    "df_polar_acc = pd.read_csv('Data/01_unified_data/ruch/polar_acc.csv')\r\n",
    "df_polar_ekg = pd.read_csv('Data/01_unified_data/ruch/polar_ekg.csv')\r\n",
    "\r\n",
    "df_samsung_acc = pd.read_csv('Data/01_unified_data/ruch/samsung_acc.csv')\r\n",
    "df_samsung_ppg = pd.read_csv('Data/01_unified_data/ruch/samsung_ppg.csv')"
   ],
   "outputs": [],
   "metadata": {}
  },
  {
   "cell_type": "code",
   "execution_count": null,
   "source": [
    "plot_signal_in_time(df_empatica_acc, ACC_FREQ_EMPATICA, 'Empatica accelerometer')"
   ],
   "outputs": [],
   "metadata": {}
  },
  {
   "cell_type": "code",
   "execution_count": null,
   "source": [
    "plot_signal_in_time(df_empatica_ppg, SAMPLING_FREQ_EMPATICA, 'Empatica ppg signal')"
   ],
   "outputs": [],
   "metadata": {}
  },
  {
   "cell_type": "code",
   "execution_count": null,
   "source": [
    "plot_signal_in_time(df_polar_acc, ACC_FREQ_POLAR, 'Polar accelerometer')"
   ],
   "outputs": [],
   "metadata": {}
  },
  {
   "cell_type": "code",
   "execution_count": null,
   "source": [
    "plot_signal_in_time(df_polar_ekg, SAMPLING_FREQ_POLAR, 'Polar ekg signal')"
   ],
   "outputs": [],
   "metadata": {}
  },
  {
   "cell_type": "code",
   "execution_count": null,
   "source": [
    "plot_signal_in_time(df_samsung_acc, ACC_FREQ_SAMSUNG, 'Samsung accelerometer')"
   ],
   "outputs": [],
   "metadata": {}
  },
  {
   "cell_type": "code",
   "execution_count": null,
   "source": [
    "plot_signal_in_time(df_samsung_ppg, SAMPLING_FREQ_SAMSUNG, 'Samsung ppg signal')"
   ],
   "outputs": [],
   "metadata": {}
  },
  {
   "cell_type": "markdown",
   "source": [
    "# Raw signal while sitting"
   ],
   "metadata": {}
  },
  {
   "cell_type": "code",
   "execution_count": null,
   "source": [
    "df_empatica_acc = pd.read_csv('Data/01_unified_data/siedzaco/empatica_acc.csv')\r\n",
    "df_empatica_ppg = pd.read_csv('Data/01_unified_data/siedzaco/empatica_ppg.csv')\r\n",
    "\r\n",
    "df_polar_acc = pd.read_csv('Data/01_unified_data/siedzaco/polar_acc.csv')\r\n",
    "df_polar_ekg = pd.read_csv('Data/01_unified_data/siedzaco/polar_ekg.csv')\r\n",
    "\r\n",
    "df_samsung_acc = pd.read_csv('Data/01_unified_data/siedzaco/samsung_acc.csv')\r\n",
    "df_samsung_ppg = pd.read_csv('Data/01_unified_data/siedzaco/samsung_ppg.csv')"
   ],
   "outputs": [],
   "metadata": {}
  },
  {
   "cell_type": "code",
   "execution_count": null,
   "source": [
    "plot_signal_in_time(df_empatica_acc, ACC_FREQ_EMPATICA, 'Empatica accelerometer')"
   ],
   "outputs": [],
   "metadata": {}
  },
  {
   "cell_type": "code",
   "execution_count": null,
   "source": [
    "plot_signal_in_time(df_empatica_ppg, SAMPLING_FREQ_EMPATICA, 'Empatica ppg signal')"
   ],
   "outputs": [],
   "metadata": {}
  },
  {
   "cell_type": "code",
   "execution_count": null,
   "source": [
    "plot_signal_in_time(df_polar_acc, ACC_FREQ_POLAR, 'Polar accelerometer')"
   ],
   "outputs": [],
   "metadata": {}
  },
  {
   "cell_type": "code",
   "execution_count": null,
   "source": [
    "plot_signal_in_time(df_polar_ekg, SAMPLING_FREQ_POLAR, 'Polar ekg signal')"
   ],
   "outputs": [],
   "metadata": {}
  },
  {
   "cell_type": "code",
   "execution_count": null,
   "source": [
    "plot_signal_in_time(df_samsung_acc, ACC_FREQ_SAMSUNG, 'Samsung accelerometer')"
   ],
   "outputs": [],
   "metadata": {}
  },
  {
   "cell_type": "code",
   "execution_count": null,
   "source": [
    "plot_signal_in_time(df_samsung_ppg, SAMPLING_FREQ_SAMSUNG, 'Samsung ppg signal')"
   ],
   "outputs": [],
   "metadata": {}
  }
 ],
 "metadata": {
  "orig_nbformat": 4,
  "language_info": {
   "name": "python",
   "version": "3.7.2",
   "mimetype": "text/x-python",
   "codemirror_mode": {
    "name": "ipython",
    "version": 3
   },
   "pygments_lexer": "ipython3",
   "nbconvert_exporter": "python",
   "file_extension": ".py"
  },
  "kernelspec": {
   "name": "python3",
   "display_name": "Python 3.7.2 32-bit"
  },
  "interpreter": {
   "hash": "3516c099f2e50fbe6b83d8aca3e7ba54c35d25f18189c7f24f96f469bdbc3fe7"
  }
 },
 "nbformat": 4,
 "nbformat_minor": 2
}