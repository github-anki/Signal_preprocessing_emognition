{
 "cells": [
  {
   "cell_type": "code",
   "execution_count": null,
   "source": [
    "import pandas as pd\r\n",
    "from utils.plotting import plot_preprocessed_signal_in_time\r\n",
    "from constants import *"
   ],
   "outputs": [],
   "metadata": {}
  },
  {
   "cell_type": "markdown",
   "source": [
    "# Preprocessed signal while sitting"
   ],
   "metadata": {}
  },
  {
   "cell_type": "code",
   "execution_count": null,
   "source": [
    "df_empatica_acc = pd.read_csv('Data/02_presynch_data/siedzaco/empatica_acc_preprocessed.csv')\r\n",
    "\r\n",
    "df_polar_acc = pd.read_csv('Data/02_presynch_data/siedzaco/polar_acc_preprocessed.csv')\r\n",
    "\r\n",
    "df_samsung_acc = pd.read_csv('Data/02_presynch_data/siedzaco/samsung_acc_preprocessed.csv')"
   ],
   "outputs": [],
   "metadata": {}
  },
  {
   "cell_type": "code",
   "execution_count": null,
   "source": [
    "plot_preprocessed_signal_in_time(df_empatica_acc['value'], DISTANCE_PEAKS_EMPATICA, HEIGHT_PEAKS_EMPATICA, 'Preprocessed Empatica accelerometer')"
   ],
   "outputs": [],
   "metadata": {}
  },
  {
   "cell_type": "code",
   "execution_count": null,
   "source": [
    "plot_preprocessed_signal_in_time(df_empatica_acc['value'], DISTANCE_PEAKS_POLAR, HEIGHT_PEAKS_POLAR, 'Preprocessed Polar accelerometer')"
   ],
   "outputs": [],
   "metadata": {}
  },
  {
   "cell_type": "code",
   "execution_count": null,
   "source": [
    "plot_preprocessed_signal_in_time(df_empatica_acc['value'], DISTANCE_PEAKS_SAMSUNG, HEIGHT_PEAKS_SAMSUNG, 'Preprocessed Samsung accelerometer')"
   ],
   "outputs": [],
   "metadata": {}
  },
  {
   "cell_type": "markdown",
   "source": [
    "# Preprocessed signal in movement"
   ],
   "metadata": {}
  },
  {
   "cell_type": "code",
   "execution_count": null,
   "source": [
    "df_empatica_acc = pd.read_csv('Data/02_presynch_data/ruch/empatica_acc_preprocessed.csv')\r\n",
    "\r\n",
    "df_polar_acc = pd.read_csv('Data/02_presynch_data/ruch/polar_acc_preprocessed.csv')\r\n",
    "\r\n",
    "df_samsung_acc = pd.read_csv('Data/02_presynch_data/ruch/samsung_acc_preprocessed.csv')"
   ],
   "outputs": [],
   "metadata": {}
  },
  {
   "cell_type": "code",
   "execution_count": null,
   "source": [
    "plot_preprocessed_signal_in_time(df_empatica_acc['value'], DISTANCE_PEAKS_EMPATICA, HEIGHT_PEAKS_EMPATICA, 'Preprocessed Empatica accelerometer')"
   ],
   "outputs": [],
   "metadata": {}
  },
  {
   "cell_type": "code",
   "execution_count": null,
   "source": [
    "plot_preprocessed_signal_in_time(df_empatica_acc['value'], DISTANCE_PEAKS_POLAR, HEIGHT_PEAKS_POLAR, 'Preprocessed Polar accelerometer')"
   ],
   "outputs": [],
   "metadata": {}
  },
  {
   "cell_type": "code",
   "execution_count": null,
   "source": [
    "plot_preprocessed_signal_in_time(df_empatica_acc['value'], DISTANCE_PEAKS_SAMSUNG, HEIGHT_PEAKS_SAMSUNG, 'Preprocessed Samsung accelerometer')"
   ],
   "outputs": [],
   "metadata": {}
  }
 ],
 "metadata": {
  "orig_nbformat": 4,
  "language_info": {
   "name": "python",
   "version": "3.7.2",
   "mimetype": "text/x-python",
   "codemirror_mode": {
    "name": "ipython",
    "version": 3
   },
   "pygments_lexer": "ipython3",
   "nbconvert_exporter": "python",
   "file_extension": ".py"
  },
  "kernelspec": {
   "name": "python3",
   "display_name": "Python 3.7.2 32-bit"
  },
  "interpreter": {
   "hash": "3516c099f2e50fbe6b83d8aca3e7ba54c35d25f18189c7f24f96f469bdbc3fe7"
  }
 },
 "nbformat": 4,
 "nbformat_minor": 2
}