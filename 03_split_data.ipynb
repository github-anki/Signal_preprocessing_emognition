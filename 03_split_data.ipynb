{
 "cells": [
  {
   "cell_type": "code",
   "execution_count": null,
   "source": [
    "import matplotlib.pyplot as plt\r\n",
    "import pandas as pd\r\n",
    "from utils.basic import calculate_index_ppg, normalize, calculate_real_sampling_freq\r\n",
    "from utils.plotting import plot_experiment, plot_norm_experiment\r\n",
    "from constants import *"
   ],
   "outputs": [],
   "metadata": {}
  },
  {
   "cell_type": "code",
   "execution_count": null,
   "source": [
    "df_empatica_acc_sit = pd.read_csv('Data/03_split_data/siedzaco/empatica_acc.csv')\r\n",
    "df_empatica_ppg_sit = pd.read_csv('Data/03_split_data/siedzaco/empatica_ppg.csv')\r\n",
    "\r\n",
    "df_polar_acc_sit = pd.read_csv('Data/03_split_data/siedzaco/polar_acc.csv')\r\n",
    "df_polar_ekg_sit = pd.read_csv('Data/03_split_data/siedzaco/polar_ekg.csv')\r\n",
    "\r\n",
    "df_samsung_acc_sit = pd.read_csv('Data/03_split_data/siedzaco/samsung_acc.csv')\r\n",
    "df_samsung_ppg_sit = pd.read_csv('Data/03_split_data/siedzaco/samsung_ppg.csv')\r\n",
    "\r\n",
    "\r\n",
    "\r\n",
    "df_empatica_acc_move = pd.read_csv('Data/03_split_data/ruch/empatica_acc.csv')\r\n",
    "df_empatica_ppg_move = pd.read_csv('Data/03_split_data/ruch/empatica_ppg.csv')\r\n",
    "\r\n",
    "df_polar_acc_move = pd.read_csv('Data/03_split_data/ruch/polar_acc.csv')\r\n",
    "df_polar_ekg_move = pd.read_csv('Data/03_split_data/ruch/polar_ppg.csv')\r\n",
    "\r\n",
    "df_samsung_acc_move = pd.read_csv('Data/03_split_data/ruch/samsung_acc.csv')\r\n",
    "df_samsung_ppg_move = pd.read_csv('Data/03_split_data/ruch/samsung_ppg.csv')"
   ],
   "outputs": [],
   "metadata": {}
  },
  {
   "cell_type": "markdown",
   "source": [
    "# Calculate sampling frequency"
   ],
   "metadata": {}
  },
  {
   "cell_type": "code",
   "execution_count": null,
   "source": [
    "freq_empatica_sit, freq_samsung_sit, freq_polar_sit = calculate_real_sampling_freq(\r\n",
    "    df_empatica_acc_sit,\r\n",
    "    df_empatica_ppg_sit,\r\n",
    "    df_polar_acc_sit,\r\n",
    "    df_polar_ekg_sit,\r\n",
    "    df_samsung_acc_sit,\r\n",
    "    df_samsung_ppg_sit\r\n",
    ")\r\n",
    "freq_empatica_sit, freq_samsung_sit, freq_polar_sit"
   ],
   "outputs": [],
   "metadata": {}
  },
  {
   "cell_type": "code",
   "execution_count": null,
   "source": [
    "freq_empatica_move, freq_samsung_move, freq_polar_move = calculate_real_sampling_freq(\r\n",
    "    df_empatica_acc_move,\r\n",
    "    df_empatica_ppg_move,\r\n",
    "    df_polar_acc_move,\r\n",
    "    df_polar_ekg_move,\r\n",
    "    df_samsung_acc_move,\r\n",
    "    df_samsung_ppg_move\r\n",
    ")\r\n",
    "freq_empatica_move, freq_samsung_move, freq_polar_move"
   ],
   "outputs": [],
   "metadata": {}
  },
  {
   "cell_type": "markdown",
   "source": [
    "# 1st experiment - without move"
   ],
   "metadata": {}
  },
  {
   "cell_type": "code",
   "execution_count": null,
   "source": [
    "plot_experiment(df_samsung_ppg_sit, 'without_move')\r\n",
    "plot_experiment(df_polar_ekg_sit, 'without_move')\r\n",
    "plot_experiment(df_empatica_ppg_sit, 'without_move')"
   ],
   "outputs": [],
   "metadata": {}
  },
  {
   "cell_type": "code",
   "execution_count": null,
   "source": [
    "plot_norm_experiment(df_polar_ekg_sit, df_empatica_ppg_sit, df_samsung_ppg_sit, 'without_move', freq_polar_sit, freq_empatica_sit, freq_samsung_sit)"
   ],
   "outputs": [],
   "metadata": {}
  },
  {
   "cell_type": "markdown",
   "source": [
    "# 2nd experiment - light"
   ],
   "metadata": {}
  },
  {
   "cell_type": "code",
   "execution_count": null,
   "source": [
    "plot_experiment(df_samsung_ppg_sit, 'light')\r\n",
    "plot_experiment(df_polar_ekg_sit, 'light')\r\n",
    "plot_experiment(df_empatica_ppg_sit, 'light')"
   ],
   "outputs": [],
   "metadata": {}
  },
  {
   "cell_type": "code",
   "execution_count": null,
   "source": [
    "plot_norm_experiment(df_polar_ekg_sit, df_empatica_ppg_sit, df_samsung_ppg_sit, 'light', freq_polar_sit, freq_empatica_sit, freq_samsung_sit)"
   ],
   "outputs": [],
   "metadata": {}
  },
  {
   "cell_type": "markdown",
   "source": [
    "# 3rd experiment - hand move"
   ],
   "metadata": {}
  },
  {
   "cell_type": "code",
   "execution_count": null,
   "source": [
    "plot_experiment(df_samsung_ppg_sit, 'hand_move')\r\n",
    "plot_experiment(df_polar_ekg_sit, 'hand_move')\r\n",
    "plot_experiment(df_empatica_ppg_sit, 'hand_move')"
   ],
   "outputs": [],
   "metadata": {}
  },
  {
   "cell_type": "code",
   "execution_count": null,
   "source": [
    "plot_norm_experiment(df_polar_ekg_sit, df_empatica_ppg_sit, df_samsung_ppg_sit, 'hand_move', freq_polar_sit, freq_empatica_sit, freq_samsung_sit)\r\n",
    "df_polar_ekg_sit['experiments'].value_counts()"
   ],
   "outputs": [],
   "metadata": {}
  },
  {
   "cell_type": "markdown",
   "source": [
    "# 4th experiment - breathing"
   ],
   "metadata": {}
  },
  {
   "cell_type": "code",
   "execution_count": null,
   "source": [
    "plot_experiment(df_samsung_ppg_sit, 'breath')\r\n",
    "plot_experiment(df_polar_ekg_sit, 'breath')\r\n",
    "plot_experiment(df_empatica_ppg_sit, 'breath')"
   ],
   "outputs": [],
   "metadata": {}
  },
  {
   "cell_type": "code",
   "execution_count": null,
   "source": [
    "plot_norm_experiment(df_polar_ekg_sit, df_empatica_ppg_sit, df_samsung_ppg_sit, 'breath', freq_polar_sit, freq_empatica_sit, freq_samsung_sit)"
   ],
   "outputs": [],
   "metadata": {}
  },
  {
   "cell_type": "markdown",
   "source": [
    "# 5th experiment - walking"
   ],
   "metadata": {}
  },
  {
   "cell_type": "code",
   "execution_count": null,
   "source": [
    "plot_experiment(df_samsung_ppg_move, 'walking')\r\n",
    "plot_experiment(df_polar_ekg_move, 'walking')\r\n",
    "plot_experiment(df_empatica_ppg_move, 'walking')"
   ],
   "outputs": [],
   "metadata": {}
  },
  {
   "cell_type": "code",
   "execution_count": null,
   "source": [
    "plot_norm_experiment(df_polar_ekg_move, df_empatica_ppg_move, df_samsung_ppg_move, 'walking', freq_polar_move, freq_empatica_move, freq_samsung_move)"
   ],
   "outputs": [],
   "metadata": {}
  },
  {
   "cell_type": "markdown",
   "source": [
    "# 6th experiment - running"
   ],
   "metadata": {}
  },
  {
   "cell_type": "code",
   "execution_count": null,
   "source": [
    "plot_experiment(df_samsung_ppg_move, 'running')\r\n",
    "plot_experiment(df_polar_ekg_move, 'running')\r\n",
    "plot_experiment(df_empatica_ppg_move, 'running')"
   ],
   "outputs": [],
   "metadata": {}
  },
  {
   "cell_type": "code",
   "execution_count": null,
   "source": [
    "plot_norm_experiment(df_polar_ekg_move, df_empatica_ppg_move, df_samsung_ppg_move, 'running', freq_polar_move, freq_empatica_move, freq_samsung_move)"
   ],
   "outputs": [],
   "metadata": {}
  }
 ],
 "metadata": {
  "orig_nbformat": 4,
  "language_info": {
   "name": "python",
   "version": "3.6.7",
   "mimetype": "text/x-python",
   "codemirror_mode": {
    "name": "ipython",
    "version": 3
   },
   "pygments_lexer": "ipython3",
   "nbconvert_exporter": "python",
   "file_extension": ".py"
  },
  "kernelspec": {
   "name": "python3",
   "display_name": "Python 3.6.7 64-bit"
  },
  "interpreter": {
   "hash": "62b827cd2d8108b3cb0306447321bd64244422ec9a07479674c0c1f9751070d5"
  }
 },
 "nbformat": 4,
 "nbformat_minor": 2
}