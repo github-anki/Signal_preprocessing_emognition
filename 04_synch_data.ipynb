{
 "cells": [
  {
   "cell_type": "code",
   "execution_count": 1,
   "source": [
    "import pandas as pd\r\n",
    "from utils.plotting import plot_signal_in_time\r\n",
    "from constants import *\r\n",
    "from utils.basic import calculate_index_ppg, normalize, calculate_real_sampling_freq\r\n",
    "import matplotlib.pyplot as plt\r\n",
    "import numpy as np\r\n",
    "\r\n",
    "from PyEMD import EEMD"
   ],
   "outputs": [],
   "metadata": {}
  },
  {
   "cell_type": "code",
   "execution_count": 2,
   "source": [
    "df_empatica_acc_sit = pd.read_csv('Data/03_split_data/siedzaco/empatica_acc.csv')\r\n",
    "df_empatica_ppg_sit = pd.read_csv('Data/03_split_data/siedzaco/empatica_ppg.csv')\r\n",
    "\r\n",
    "df_polar_acc_sit = pd.read_csv('Data/03_split_data/siedzaco/polar_acc.csv')\r\n",
    "df_polar_ekg_sit = pd.read_csv('Data/03_split_data/siedzaco/polar_ekg.csv')\r\n",
    "\r\n",
    "df_samsung_acc_sit = pd.read_csv('Data/03_split_data/siedzaco/samsung_acc.csv')\r\n",
    "df_samsung_ppg_sit = pd.read_csv('Data/03_split_data/siedzaco/samsung_ppg.csv')\r\n",
    "\r\n",
    "\r\n",
    "\r\n",
    "df_empatica_acc_move = pd.read_csv('Data/03_split_data/ruch/empatica_acc.csv')\r\n",
    "df_empatica_ppg_move = pd.read_csv('Data/03_split_data/ruch/empatica_ppg.csv')\r\n",
    "\r\n",
    "df_polar_acc_move = pd.read_csv('Data/03_split_data/ruch/polar_acc.csv')\r\n",
    "df_polar_ekg_move = pd.read_csv('Data/03_split_data/ruch/polar_ppg.csv')\r\n",
    "\r\n",
    "df_samsung_acc_move = pd.read_csv('Data/03_split_data/ruch/samsung_acc.csv')\r\n",
    "df_samsung_ppg_move = pd.read_csv('Data/03_split_data/ruch/samsung_ppg.csv')"
   ],
   "outputs": [],
   "metadata": {}
  },
  {
   "cell_type": "code",
   "execution_count": 3,
   "source": [
    "freq_empatica_sit, freq_samsung_sit, freq_polar_sit = calculate_real_sampling_freq(\r\n",
    "    df_empatica_acc_sit,\r\n",
    "    df_empatica_ppg_sit,\r\n",
    "    df_polar_acc_sit,\r\n",
    "    df_polar_ekg_sit,\r\n",
    "    df_samsung_acc_sit,\r\n",
    "    df_samsung_ppg_sit\r\n",
    ")\r\n",
    "freq_empatica_sit, freq_samsung_sit, freq_polar_sit"
   ],
   "outputs": [
    {
     "output_type": "execute_result",
     "data": {
      "text/plain": [
       "(64, 24.909441233140655, 129.85143164403817)"
      ]
     },
     "metadata": {},
     "execution_count": 3
    }
   ],
   "metadata": {}
  },
  {
   "cell_type": "code",
   "execution_count": 4,
   "source": [
    "freq_empatica_move, freq_polar_move, freq_samsung_move = calculate_real_sampling_freq(\r\n",
    "    df_empatica_acc_move,\r\n",
    "    df_empatica_ppg_move,\r\n",
    "    df_polar_acc_move,\r\n",
    "    df_polar_ekg_move,\r\n",
    "    df_samsung_acc_move,\r\n",
    "    df_samsung_ppg_move\r\n",
    ")\r\n",
    "freq_empatica_move, freq_polar_move, freq_samsung_move"
   ],
   "outputs": [
    {
     "output_type": "execute_result",
     "data": {
      "text/plain": [
       "(64, 24.908675430814313, 129.8335528850893)"
      ]
     },
     "metadata": {},
     "execution_count": 4
    }
   ],
   "metadata": {}
  },
  {
   "cell_type": "code",
   "execution_count": 5,
   "source": [
    "signal = df_samsung_ppg_move.loc[df_samsung_ppg_move['experiments'] == 'running', 'value'].values\r\n",
    "time = np.arange(0, (len(signal)/freq_samsung_sit), 1/freq_samsung_sit) / 60"
   ],
   "outputs": [],
   "metadata": {}
  },
  {
   "cell_type": "code",
   "execution_count": 6,
   "source": [
    "plt.plot(time, signal)"
   ],
   "outputs": [
    {
     "output_type": "error",
     "ename": "NameError",
     "evalue": "name 'plt' is not defined",
     "traceback": [
      "\u001b[1;31m---------------------------------------------------------------------------\u001b[0m",
      "\u001b[1;31mNameError\u001b[0m                                 Traceback (most recent call last)",
      "\u001b[1;32m<ipython-input-6-2f2fa81ec0cb>\u001b[0m in \u001b[0;36m<module>\u001b[1;34m\u001b[0m\n\u001b[1;32m----> 1\u001b[1;33m \u001b[0mplt\u001b[0m\u001b[1;33m.\u001b[0m\u001b[0mplot\u001b[0m\u001b[1;33m(\u001b[0m\u001b[0mtime\u001b[0m\u001b[1;33m,\u001b[0m \u001b[0msignal\u001b[0m\u001b[1;33m)\u001b[0m\u001b[1;33m\u001b[0m\u001b[1;33m\u001b[0m\u001b[0m\n\u001b[0m",
      "\u001b[1;31mNameError\u001b[0m: name 'plt' is not defined"
     ]
    }
   ],
   "metadata": {}
  },
  {
   "cell_type": "code",
   "execution_count": null,
   "source": [
    "# Assign EEMD to `eemd` variable\r\n",
    "eemd = EEMD()\r\n",
    "\r\n",
    "# Say we want detect extrema using parabolic method\r\n",
    "emd = eemd.EMD\r\n",
    "emd.extrema_detection=\"parabol\"\r\n",
    "\r\n",
    "# Execute EEMD on S\r\n",
    "eIMFs = eemd.eemd(signal, time)\r\n",
    "nIMFs = eIMFs.shape[0]"
   ],
   "outputs": [],
   "metadata": {}
  },
  {
   "cell_type": "code",
   "execution_count": null,
   "source": [
    "# Plot results\r\n",
    "plt.figure(figsize=(24,15))\r\n",
    "plt.subplot(nIMFs+1, 1, 1)\r\n",
    "plt.plot(time, signal, 'r')\r\n",
    "\r\n",
    "for n in range(nIMFs):\r\n",
    "    plt.subplot(nIMFs+1, 1, n+2)\r\n",
    "    plt.plot(time, eIMFs[n], 'g')\r\n",
    "    plt.ylabel(\"eIMF %i\" %(n+1))\r\n",
    "    plt.locator_params(axis='y', nbins=5)\r\n",
    "\r\n",
    "plt.xlabel(\"Time [s]\")\r\n",
    "plt.tight_layout()\r\n",
    "plt.show()"
   ],
   "outputs": [],
   "metadata": {}
  },
  {
   "cell_type": "code",
   "execution_count": null,
   "source": [
    "plt.figure(figsize=(18,6))\r\n",
    "\r\n",
    "reconstructed = eIMFs[4:6].sum(axis=0)\r\n",
    "\r\n",
    "plt.plot(time, normalize(signal), 'r', label = 'Original')\r\n",
    "plt.plot(time, normalize(reconstructed), 'b', label = 'Reconstructed')\r\n",
    "\r\n",
    "plt.legend()"
   ],
   "outputs": [],
   "metadata": {}
  },
  {
   "cell_type": "code",
   "execution_count": null,
   "source": [
    "plot_signal_in_time(df_empatica_acc, ACC_FREQ_EMPATICA, 'Empatica accelerometer')"
   ],
   "outputs": [],
   "metadata": {}
  },
  {
   "cell_type": "code",
   "execution_count": null,
   "source": [
    "plot_signal_in_time(df_polar_acc, ACC_FREQ_POLAR, 'Polar accelerometer')"
   ],
   "outputs": [],
   "metadata": {}
  },
  {
   "cell_type": "code",
   "execution_count": null,
   "source": [
    "plot_signal_in_time(df_samsung_acc, ACC_FREQ_SAMSUNG, 'Samsung accelerometer')"
   ],
   "outputs": [],
   "metadata": {}
  },
  {
   "cell_type": "code",
   "execution_count": null,
   "source": [
    "df_empatica_acc = pd.read_csv('Data/03_synch_data/siedzaco/empatica_acc.csv')\r\n",
    "\r\n",
    "df_polar_acc = pd.read_csv('Data/03_synch_data/siedzaco/polar_acc.csv')\r\n",
    "\r\n",
    "df_samsung_acc = pd.read_csv('Data/03_synch_data/siedzaco/samsung_acc.csv')"
   ],
   "outputs": [],
   "metadata": {}
  },
  {
   "cell_type": "code",
   "execution_count": null,
   "source": [
    "plot_signal_in_time(df_empatica_acc, ACC_FREQ_EMPATICA, 'Empatica accelerometer')"
   ],
   "outputs": [],
   "metadata": {}
  },
  {
   "cell_type": "code",
   "execution_count": null,
   "source": [
    "plot_signal_in_time(df_polar_acc, ACC_FREQ_POLAR, 'Polar accelerometer')"
   ],
   "outputs": [],
   "metadata": {}
  },
  {
   "cell_type": "code",
   "execution_count": null,
   "source": [
    "plot_signal_in_time(df_samsung_acc, ACC_FREQ_SAMSUNG, 'Samsung accelerometer')"
   ],
   "outputs": [],
   "metadata": {}
  }
 ],
 "metadata": {
  "orig_nbformat": 4,
  "language_info": {
   "name": "python",
   "version": "3.6.7",
   "mimetype": "text/x-python",
   "codemirror_mode": {
    "name": "ipython",
    "version": 3
   },
   "pygments_lexer": "ipython3",
   "nbconvert_exporter": "python",
   "file_extension": ".py"
  },
  "kernelspec": {
   "name": "python3",
   "display_name": "Python 3.6.7 64-bit"
  },
  "interpreter": {
   "hash": "62b827cd2d8108b3cb0306447321bd64244422ec9a07479674c0c1f9751070d5"
  }
 },
 "nbformat": 4,
 "nbformat_minor": 2
}